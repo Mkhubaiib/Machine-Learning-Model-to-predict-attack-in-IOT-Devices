{
 "cells": [
  {
   "cell_type": "code",
   "execution_count": 19,
   "metadata": {},
   "outputs": [],
   "source": [
    "\n",
    "#importing libraries\n",
    "import pandas as pd\n",
    "import time\n",
    "from sklearn.model_selection import train_test_split # For splitting the data\n",
    "from sklearn.preprocessing import StandardScaler # For normalizing the data\n",
    "from sklearn.metrics import confusion_matrix # For creating the confurion matrix\n",
    "\n",
    "\n",
    "from sklearn.ensemble import RandomForestClassifier\n",
    "from sklearn.tree import DecisionTreeClassifier\n",
    "from sklearn.naive_bayes import GaussianNB\n",
    "from sklearn.neighbors import KNeighborsClassifier"
   ]
  },
  {
   "attachments": {},
   "cell_type": "markdown",
   "metadata": {},
   "source": [
    " For the performance of an algorithm, we need Big O notation or big omega notation. \n",
    " Time is not an indicator for performance of an algorithm. However in this experiment\n",
    " we used time as an indicator that shows the performance. That is why it will be hard to calculate each \n",
    " algortihm's performance with Big O notation or big omega notation"
   ]
  },
  {
   "cell_type": "code",
   "execution_count": 20,
   "metadata": {},
   "outputs": [],
   "source": [
    "# This function gives us the time value in miliseconds.\n",
    "def current_milli_time():\n",
    "    return round(time.time() * 1000)"
   ]
  },
  {
   "cell_type": "code",
   "execution_count": 21,
   "metadata": {},
   "outputs": [],
   "source": [
    "# This function calculates the accuracy rate of a confusion matrix.\n",
    "def calculate_AR(confusion_matrix):\n",
    "    return (confusion_matrix[0][0] + confusion_matrix[1][1]) / (confusion_matrix[0][0] + confusion_matrix[0][1] + confusion_matrix[1][0] + confusion_matrix[1][1])\n"
   ]
  },
  {
   "cell_type": "code",
   "execution_count": 22,
   "metadata": {},
   "outputs": [],
   "source": [
    "def print_values(algorithm:str, accuracy_rate:float, training_time:int):\n",
    "    print(algorithm, \"Accuracy rate\", round(accuracy_rate*100,2), \"Training time:\", training_time)\n"
   ]
  },
  {
   "cell_type": "code",
   "execution_count": 23,
   "metadata": {},
   "outputs": [],
   "source": [
    "#obtaining the data which have data of all the attacks\n",
    "data = pd.read_csv(\"Results/All_Attacks.csv\",sep=\";\")"
   ]
  },
  {
   "cell_type": "code",
   "execution_count": 24,
   "metadata": {},
   "outputs": [],
   "source": [
    "#filing the missing values with backward filling\n",
    "data.fillna(method = 'bfill', inplace=True)   \n"
   ]
  },
  {
   "cell_type": "code",
   "execution_count": 25,
   "metadata": {},
   "outputs": [],
   "source": [
    "#dropping the duplicates\n",
    "data = data.drop_duplicates(inplace=False)\n"
   ]
  },
  {
   "cell_type": "code",
   "execution_count": 26,
   "metadata": {},
   "outputs": [
    {
     "data": {
      "text/html": [
       "<div>\n",
       "<style scoped>\n",
       "    .dataframe tbody tr th:only-of-type {\n",
       "        vertical-align: middle;\n",
       "    }\n",
       "\n",
       "    .dataframe tbody tr th {\n",
       "        vertical-align: top;\n",
       "    }\n",
       "\n",
       "    .dataframe thead th {\n",
       "        text-align: right;\n",
       "    }\n",
       "</style>\n",
       "<table border=\"1\" class=\"dataframe\">\n",
       "  <thead>\n",
       "    <tr style=\"text-align: right;\">\n",
       "      <th></th>\n",
       "      <th>second</th>\n",
       "      <th>src</th>\n",
       "      <th>dst</th>\n",
       "      <th>packetcount</th>\n",
       "      <th>src_ratio</th>\n",
       "      <th>dst_ratio</th>\n",
       "      <th>src_duration_ratio</th>\n",
       "      <th>dst_duration_ratio</th>\n",
       "      <th>TotalPacketDuration</th>\n",
       "      <th>TotalPacketLenght</th>\n",
       "      <th>src_packet_ratio</th>\n",
       "      <th>dst_packet_ratio</th>\n",
       "      <th>DioCount</th>\n",
       "      <th>DisCount</th>\n",
       "      <th>DaoCount</th>\n",
       "      <th>OtherMsg</th>\n",
       "      <th>label</th>\n",
       "    </tr>\n",
       "  </thead>\n",
       "  <tbody>\n",
       "    <tr>\n",
       "      <th>0</th>\n",
       "      <td>61.0</td>\n",
       "      <td>2</td>\n",
       "      <td>32</td>\n",
       "      <td>1</td>\n",
       "      <td>0.500000</td>\n",
       "      <td>1.000000</td>\n",
       "      <td>0.013889</td>\n",
       "      <td>1.000000</td>\n",
       "      <td>0.020000</td>\n",
       "      <td>37</td>\n",
       "      <td>0.500000</td>\n",
       "      <td>1.000000</td>\n",
       "      <td>0</td>\n",
       "      <td>0</td>\n",
       "      <td>0</td>\n",
       "      <td>1</td>\n",
       "      <td>1</td>\n",
       "    </tr>\n",
       "    <tr>\n",
       "      <th>1</th>\n",
       "      <td>61.0</td>\n",
       "      <td>4</td>\n",
       "      <td>32</td>\n",
       "      <td>1</td>\n",
       "      <td>0.500000</td>\n",
       "      <td>1.000000</td>\n",
       "      <td>0.986111</td>\n",
       "      <td>1.000000</td>\n",
       "      <td>1.419998</td>\n",
       "      <td>37</td>\n",
       "      <td>0.500000</td>\n",
       "      <td>1.000000</td>\n",
       "      <td>0</td>\n",
       "      <td>0</td>\n",
       "      <td>0</td>\n",
       "      <td>1</td>\n",
       "      <td>1</td>\n",
       "    </tr>\n",
       "    <tr>\n",
       "      <th>2</th>\n",
       "      <td>62.0</td>\n",
       "      <td>24</td>\n",
       "      <td>16</td>\n",
       "      <td>2</td>\n",
       "      <td>0.666667</td>\n",
       "      <td>0.666667</td>\n",
       "      <td>0.751425</td>\n",
       "      <td>0.751425</td>\n",
       "      <td>0.008049</td>\n",
       "      <td>187</td>\n",
       "      <td>0.785714</td>\n",
       "      <td>0.785714</td>\n",
       "      <td>0</td>\n",
       "      <td>0</td>\n",
       "      <td>2</td>\n",
       "      <td>0</td>\n",
       "      <td>1</td>\n",
       "    </tr>\n",
       "    <tr>\n",
       "      <th>3</th>\n",
       "      <td>62.0</td>\n",
       "      <td>16</td>\n",
       "      <td>24</td>\n",
       "      <td>1</td>\n",
       "      <td>0.333333</td>\n",
       "      <td>0.333333</td>\n",
       "      <td>0.248576</td>\n",
       "      <td>0.248576</td>\n",
       "      <td>0.002663</td>\n",
       "      <td>51</td>\n",
       "      <td>0.214286</td>\n",
       "      <td>0.214286</td>\n",
       "      <td>0</td>\n",
       "      <td>0</td>\n",
       "      <td>0</td>\n",
       "      <td>1</td>\n",
       "      <td>1</td>\n",
       "    </tr>\n",
       "    <tr>\n",
       "      <th>4</th>\n",
       "      <td>63.0</td>\n",
       "      <td>16</td>\n",
       "      <td>24</td>\n",
       "      <td>1</td>\n",
       "      <td>1.000000</td>\n",
       "      <td>1.000000</td>\n",
       "      <td>1.000000</td>\n",
       "      <td>1.000000</td>\n",
       "      <td>0.002953</td>\n",
       "      <td>60</td>\n",
       "      <td>1.000000</td>\n",
       "      <td>1.000000</td>\n",
       "      <td>0</td>\n",
       "      <td>0</td>\n",
       "      <td>0</td>\n",
       "      <td>2</td>\n",
       "      <td>1</td>\n",
       "    </tr>\n",
       "  </tbody>\n",
       "</table>\n",
       "</div>"
      ],
      "text/plain": [
       "   second  src  dst  packetcount  src_ratio  dst_ratio  src_duration_ratio  \\\n",
       "0    61.0    2   32            1   0.500000   1.000000            0.013889   \n",
       "1    61.0    4   32            1   0.500000   1.000000            0.986111   \n",
       "2    62.0   24   16            2   0.666667   0.666667            0.751425   \n",
       "3    62.0   16   24            1   0.333333   0.333333            0.248576   \n",
       "4    63.0   16   24            1   1.000000   1.000000            1.000000   \n",
       "\n",
       "   dst_duration_ratio  TotalPacketDuration  TotalPacketLenght  \\\n",
       "0            1.000000             0.020000                 37   \n",
       "1            1.000000             1.419998                 37   \n",
       "2            0.751425             0.008049                187   \n",
       "3            0.248576             0.002663                 51   \n",
       "4            1.000000             0.002953                 60   \n",
       "\n",
       "   src_packet_ratio  dst_packet_ratio  DioCount  DisCount  DaoCount  OtherMsg  \\\n",
       "0          0.500000          1.000000         0         0         0         1   \n",
       "1          0.500000          1.000000         0         0         0         1   \n",
       "2          0.785714          0.785714         0         0         2         0   \n",
       "3          0.214286          0.214286         0         0         0         1   \n",
       "4          1.000000          1.000000         0         0         0         2   \n",
       "\n",
       "   label  \n",
       "0      1  \n",
       "1      1  \n",
       "2      1  \n",
       "3      1  \n",
       "4      1  "
      ]
     },
     "execution_count": 26,
     "metadata": {},
     "output_type": "execute_result"
    }
   ],
   "source": [
    "data.head()"
   ]
  },
  {
   "cell_type": "code",
   "execution_count": 27,
   "metadata": {},
   "outputs": [
    {
     "data": {
      "text/plain": [
       "(10845, 17)"
      ]
     },
     "execution_count": 27,
     "metadata": {},
     "output_type": "execute_result"
    }
   ],
   "source": [
    "data.shape"
   ]
  },
  {
   "cell_type": "code",
   "execution_count": 28,
   "metadata": {},
   "outputs": [
    {
     "name": "stdout",
     "output_type": "stream",
     "text": [
      "[0.11543006 0.11156407 0.15103888 0.01824328 0.07019545 0.06624548\n",
      " 0.07890113 0.09980203 0.05950015 0.03813002 0.08804585 0.0828341\n",
      " 0.00576058 0.00238411 0.0119248 ]\n"
     ]
    },
    {
     "data": {
      "image/png": "[encoded data removed]",
      "text/plain": [
       "<Figure size 640x480 with 1 Axes>"
      ]
     },
     "metadata": {},
     "output_type": "display_data"
    }
   ],
   "source": [
    "#finding the feature importance ranking of the features\n",
    "from sklearn.ensemble import ExtraTreesClassifier\n",
    "import matplotlib.pyplot as plt\n",
    "X = data.iloc[:,0:15]  #independent columns\n",
    "#normalizing the data\n",
    "y = data.iloc[:,-1]    #target column i.e label\n",
    "model = ExtraTreesClassifier()\n",
    "model.fit(X,y)\n",
    "print(model.feature_importances_) #use inbuilt class feature_importances of tree based classifiers\n",
    "#plot graph of feature importances for better visualization\n",
    "feat_importances = pd.Series(model.feature_importances_, index=X.columns)\n",
    "feat_importances.nlargest(12).plot(kind='barh')   \n",
    "plt.show()\n",
    "\n"
   ]
  },
  {
   "cell_type": "code",
   "execution_count": 29,
   "metadata": {},
   "outputs": [],
   "source": [
    "#splitting the data into dependent (lbl) and independent variables\n",
    "\n",
    "#copy the data into a new variable\n",
    "data_copy = data.copy()\n",
    "\n",
    "#drop the label column from the data\n",
    "data_copy.drop(['label'], axis=1, inplace=True)\n",
    "\n",
    "#y is the label column\n",
    "y = data['label']\n",
    "\n",
    "#x is the data without the label column\n",
    "X = data_copy\n",
    "\n",
    "\n",
    "\n"
   ]
  },
  {
   "cell_type": "code",
   "execution_count": 30,
   "metadata": {},
   "outputs": [],
   "source": [
    "# The dataset was split into test and training datasets in the amount of 2/3. (2/3 training, 1/3 testing).\n",
    "# donot shuffle the data\n",
    "x_train, x_test, y_train, y_test = train_test_split(X, y, test_size=0.2,random_state=15, shuffle=True)"
   ]
  },
  {
   "attachments": {},
   "cell_type": "markdown",
   "metadata": {},
   "source": [
    "**Scripts for Decision Tree Classifier**"
   ]
  },
  {
   "cell_type": "code",
   "execution_count": 31,
   "metadata": {},
   "outputs": [],
   "source": [
    "dtstart_time = current_milli_time() # Obtaining initial time of the training\n",
    "dtc=DecisionTreeClassifier(criterion='entropy') # Creating the Decision Tree Classifier object\n",
    "dtc.fit(x_train,y_train) # Training the data\n",
    "dtend_time = current_milli_time() # Obtaining ending time of the training\n",
    "DTduration = dtend_time - dtstart_time # Calculating the duration\n",
    "y_pred_dtc = dtc.predict(x_test) # Predicting data\n",
    "cm_dtc = confusion_matrix(y_test,y_pred_dtc) # Creating confusion matrix\n",
    "ar_dtc = calculate_AR(cm_dtc) # Calculating accuracy rate."
   ]
  },
  {
   "attachments": {},
   "cell_type": "markdown",
   "metadata": {},
   "source": [
    "**Scripts for Naive Bayes Classifier**"
   ]
  },
  {
   "cell_type": "code",
   "execution_count": 32,
   "metadata": {},
   "outputs": [],
   "source": [
    "nbstart_time = current_milli_time() # Obtaining initial time of the training\n",
    "gnb = GaussianNB() # Creating the Naive Bayes Classifier object\n",
    "gnb.fit(x_train,y_train) # Training the data\n",
    "nbend_time = current_milli_time() # Obtaining ending time of the training\n",
    "NBduration = nbend_time - nbstart_time # Calculating the duration\n",
    "y_pred_nb = gnb.predict(x_test) # Predicting data\n",
    "cm_nb = confusion_matrix(y_test,y_pred_nb) # Creating confusion matrix\n",
    "ar_nb = calculate_AR(cm_nb) # Calculating accuracy rate."
   ]
  },
  {
   "attachments": {},
   "cell_type": "markdown",
   "metadata": {},
   "source": [
    "**Scripts for KNN Classifier**"
   ]
  },
  {
   "cell_type": "code",
   "execution_count": 33,
   "metadata": {},
   "outputs": [],
   "source": [
    "\n",
    "knnstart_time = current_milli_time() # Obtaining initial time of the training\n",
    "knn = KNeighborsClassifier() # Creating the KNN Classifier object\n",
    "knn.fit(x_train,y_train) # Training the data\n",
    "knnend_time = current_milli_time() # Obtaining ending time of the training\n",
    "knnduration=knnend_time - knnstart_time # Calculating the duration\n",
    "y_pred_knn = knn.predict(x_test) # Predicting data\n",
    "cm_knn = confusion_matrix(y_test,y_pred_knn) # Creating confusion matrix\n",
    "ar_knn = calculate_AR(cm_knn) # Calculating accuracy rate."
   ]
  },
  {
   "attachments": {},
   "cell_type": "markdown",
   "metadata": {},
   "source": [
    "**Scripts for Random Forest Classifation**"
   ]
  },
  {
   "cell_type": "code",
   "execution_count": 34,
   "metadata": {},
   "outputs": [],
   "source": [
    "rfstart_time = current_milli_time() # Obtaining initial time of the training\n",
    "rfc = RandomForestClassifier(n_estimators=860, criterion='entropy') # Creating the Random Forest Classifation object\n",
    "rfc.fit(x_train,y_train) # Training the data\n",
    "rfend_time = current_milli_time() # Obtaining ending time of the training\n",
    "RFduration = rfend_time - rfstart_time # Calculating the duration\n",
    "y_pred_rfc = rfc.predict(x_test) # Predicting data\n",
    "cm_rfc = confusion_matrix(y_test,y_pred_rfc) # Creating confusion matrix\n",
    "ar_rfc = calculate_AR(cm_rfc) # Calculating accuracy rate.\n"
   ]
  },
  {
   "cell_type": "code",
   "execution_count": 35,
   "metadata": {},
   "outputs": [
    {
     "name": "stdout",
     "output_type": "stream",
     "text": [
      "Results:\n",
      "Random Forest Classifation Accuracy rate 91.59 Training time: 25567\n",
      "Decision Tree Classifier Accuracy rate 85.92 Training time: 192\n",
      "Naive Bayes Classifier Accuracy rate 61.4 Training time: 11\n",
      "KNN Classifier Accuracy rate 64.93 Training time: 8\n"
     ]
    }
   ],
   "source": [
    "# Printing the results\n",
    "print(\"Results:\")\n",
    "print_values(\"Random Forest Classifation\", ar_rfc, RFduration)\n",
    "print_values(\"Decision Tree Classifier\", ar_dtc, DTduration)\n",
    "print_values(\"Naive Bayes Classifier\", ar_nb, NBduration)\n",
    "print_values(\"KNN Classifier\", ar_knn, knnduration)\n",
    "\n"
   ]
  }
 ],
 "metadata": {
  "kernelspec": {
   "display_name": "Python 3",
   "language": "python",
   "name": "python3"
  },
  "language_info": {
   "codemirror_mode": {
    "name": "ipython",
    "version": 3
   },
   "file_extension": ".py",
   "mimetype": "text/x-python",
   "name": "python",
   "nbconvert_exporter": "python",
   "pygments_lexer": "ipython3",
   "version": "3.11.2"
  },
  "orig_nbformat": 4
 },
 "nbformat": 4,
 "nbformat_minor": 2
}
