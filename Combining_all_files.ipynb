{
 "cells": [
  {
   "cell_type": "code",
   "execution_count": 6,
   "metadata": {},
   "outputs": [],
   "source": [
    "#importing libraries\n",
    "import pandas as pd\n",
    "import numpy as np"
   ]
  },
  {
   "cell_type": "code",
   "execution_count": 7,
   "metadata": {},
   "outputs": [],
   "source": [
    "#importing all the files\n",
    "SHA = pd.read_csv('Results/SHA.csv')\n",
    "DFA = pd.read_csv('Results/DFA.csv')\n",
    "SFA = pd.read_csv('Results/SFA.csv')\n",
    "SYA = pd.read_csv('Results/SYA.csv')\n",
    "VNA = pd.read_csv('Results/VNA.csv')"
   ]
  },
  {
   "cell_type": "code",
   "execution_count": 8,
   "metadata": {},
   "outputs": [],
   "source": [
    "#combining all the files\n",
    "df = pd.concat([SHA,DFA,SFA,SYA,VNA], axis=0, ignore_index=True)"
   ]
  },
  {
   "cell_type": "code",
   "execution_count": 9,
   "metadata": {},
   "outputs": [],
   "source": [
    "#balancing the no. of rows in all the files as minimum no. of rows in any file\n",
    "min_rows = min(SHA.shape[0],DFA.shape[0],SFA.shape[0],SYA.shape[0],VNA.shape[0])\n",
    "\n",
    "\n",
    "SHA = SHA.iloc[:min_rows,:]\n",
    "DFA = DFA.iloc[:min_rows,:]\n",
    "SFA = SFA.iloc[:min_rows,:]\n",
    "SYA = SYA.iloc[:min_rows,:]\n",
    "VNA = VNA.iloc[:min_rows,:]\n"
   ]
  },
  {
   "cell_type": "code",
   "execution_count": 10,
   "metadata": {},
   "outputs": [],
   "source": [
    "#combining all the files as getting the 1 by 1 row from each file and combining them\n",
    "final = pd.DataFrame(columns = ['second','src', 'dst','packetcount','src_ratio', 'dst_ratio','src_duration_ratio', 'dst_duration_ratio','TotalPacketDuration','TotalPacketLenght','src_packet_ratio','dst_packet_ratio','DioCount','DisCount','DaoCount','OtherMsg','label'])\n",
    "\n",
    "for i in range(min_rows):\n",
    "    final.loc[i] = [SHA.loc[i,'second'],SHA.loc[i,'src'],SHA.loc[i,'dst'],SHA.loc[i,'packetcount'],SHA.loc[i,'src_ratio'],SHA.loc[i,'dst_ratio'],SHA.loc[i,'src_duration_ratio'],SHA.loc[i,'dst_duration_ratio'],SHA.loc[i,'TotalPacketDuration'],SHA.loc[i,'TotalPacketLenght'],SHA.loc[i,'src_packet_ratio'],SHA.loc[i,'dst_packet_ratio'],SHA.loc[i,'DioCount'],SHA.loc[i,'DisCount'],SHA.loc[i,'DaoCount'],SHA.loc[i,'OtherMsg'],int(SHA.loc[i,'label'])]\n",
    "    final.loc[i+min_rows] = [DFA.loc[i,'second'],DFA.loc[i,'src'],DFA.loc[i,'dst'],DFA.loc[i,'packetcount'],DFA.loc[i,'src_ratio'],DFA.loc[i,'dst_ratio'],DFA.loc[i,'src_duration_ratio'],DFA.loc[i,'dst_duration_ratio'],DFA.loc[i,'TotalPacketDuration'],DFA.loc[i,'TotalPacketLenght'],DFA.loc[i,'src_packet_ratio'],DFA.loc[i,'dst_packet_ratio'],DFA.loc[i,'DioCount'],DFA.loc[i,'DisCount'],DFA.loc[i,'DaoCount'],DFA.loc[i,'OtherMsg'],int(DFA.loc[i,'label'])]\n",
    "    final.loc[i+2*min_rows] = [SFA.loc[i,'second'],SFA.loc[i,'src'],SFA.loc[i,'dst'],SFA.loc[i,'packetcount'],SFA.loc[i,'src_ratio'],SFA.loc[i,'dst_ratio'],SFA.loc[i,'src_duration_ratio'],SFA.loc[i,'dst_duration_ratio'],SFA.loc[i,'TotalPacketDuration'],SFA.loc[i,'TotalPacketLenght'],SFA.loc[i,'src_packet_ratio'],SFA.loc[i,'dst_packet_ratio'],SFA.loc[i,'DioCount'],SFA.loc[i,'DisCount'],SFA.loc[i,'DaoCount'],SFA.loc[i,'OtherMsg'],int(SFA.loc[i,'label'])]\n",
    "    final.loc[i+3*min_rows] = [SYA.loc[i,'second'],SYA.loc[i,'src'],SYA.loc[i,'dst'],SYA.loc[i,'packetcount'],SYA.loc[i,'src_ratio'],SYA.loc[i,'dst_ratio'],SYA.loc[i,'src_duration_ratio'],SYA.loc[i,'dst_duration_ratio'],SYA.loc[i,'TotalPacketDuration'],SYA.loc[i,'TotalPacketLenght'],SYA.loc[i,'src_packet_ratio'],SYA.loc[i,'dst_packet_ratio'],SYA.loc[i,'DioCount'],SYA.loc[i,'DisCount'],SYA.loc[i,'DaoCount'],SYA.loc[i,'OtherMsg'],int(SYA.loc[i,'label'])]\n",
    "    final.loc[i+4*min_rows] = [VNA.loc[i,'second'],VNA.loc[i,'src'],VNA.loc[i,'dst'],VNA.loc[i,'packetcount'],VNA.loc[i,'src_ratio'],VNA.loc[i,'dst_ratio'],VNA.loc[i,'src_duration_ratio'],VNA.loc[i,'dst_duration_ratio'],VNA.loc[i,'TotalPacketDuration'],VNA.loc[i,'TotalPacketLenght'],VNA.loc[i,'src_packet_ratio'],VNA.loc[i,'dst_packet_ratio'],VNA.loc[i,'DioCount'],VNA.loc[i,'DisCount'],VNA.loc[i,'DaoCount'],VNA.loc[i,'OtherMsg'],int(VNA.loc[i,'label'])]\n",
    "\n"
   ]
  },
  {
   "cell_type": "code",
   "execution_count": 11,
   "metadata": {},
   "outputs": [],
   "source": [
    "#changing the file into csv with ; seperator\n",
    "final.to_csv('Results/All_Attacks.csv', sep=';', index=False)"
   ]
  }
 ],
 "metadata": {
  "kernelspec": {
   "display_name": "Python 3",
   "language": "python",
   "name": "python3"
  },
  "language_info": {
   "codemirror_mode": {
    "name": "ipython",
    "version": 3
   },
   "file_extension": ".py",
   "mimetype": "text/x-python",
   "name": "python",
   "nbconvert_exporter": "python",
   "pygments_lexer": "ipython3",
   "version": "3.11.2"
  },
  "orig_nbformat": 4
 },
 "nbformat": 4,
 "nbformat_minor": 2
}
